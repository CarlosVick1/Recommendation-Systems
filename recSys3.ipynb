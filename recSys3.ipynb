{
  "nbformat": 4,
  "nbformat_minor": 0,
  "metadata": {
    "colab": {
      "provenance": [],
      "toc_visible": true,
      "authorship_tag": "ABX9TyO+8Z6CBTfM4dTNTaUauhsx",
      "include_colab_link": true
    },
    "kernelspec": {
      "name": "python3",
      "display_name": "Python 3"
    },
    "language_info": {
      "name": "python"
    }
  },
  "cells": [
    {
      "cell_type": "markdown",
      "metadata": {
        "id": "view-in-github",
        "colab_type": "text"
      },
      "source": [
        "<a href=\"https://colab.research.google.com/github/CarlosVick1/Recommendation-Systems/blob/main/recSys3.ipynb\" target=\"_parent\"><img src=\"https://colab.research.google.com/assets/colab-badge.svg\" alt=\"Open In Colab\"/></a>"
      ]
    },
    {
      "cell_type": "markdown",
      "source": [
        "## 1. Import Libraries"
      ],
      "metadata": {
        "id": "BHQlX6rzwyxH"
      }
    },
    {
      "cell_type": "code",
      "source": [
        "pip install scikit-surprise"
      ],
      "metadata": {
        "colab": {
          "base_uri": "https://localhost:8080/"
        },
        "id": "CvtYjOkHzYLq",
        "outputId": "e5c25495-6acf-4e44-d23f-3c1e554dc1e0"
      },
      "execution_count": null,
      "outputs": [
        {
          "output_type": "stream",
          "name": "stdout",
          "text": [
            "Requirement already satisfied: scikit-surprise in /usr/local/lib/python3.10/dist-packages (1.1.3)\n",
            "Requirement already satisfied: joblib>=1.0.0 in /usr/local/lib/python3.10/dist-packages (from scikit-surprise) (1.3.2)\n",
            "Requirement already satisfied: numpy>=1.17.3 in /usr/local/lib/python3.10/dist-packages (from scikit-surprise) (1.23.5)\n",
            "Requirement already satisfied: scipy>=1.3.2 in /usr/local/lib/python3.10/dist-packages (from scikit-surprise) (1.11.4)\n"
          ]
        }
      ]
    },
    {
      "cell_type": "code",
      "execution_count": null,
      "metadata": {
        "id": "1C9dl0vryict"
      },
      "outputs": [],
      "source": [
        "import pandas as pd\n",
        "from sklearn.feature_extraction.text import TfidfVectorizer\n",
        "from sklearn.model_selection import train_test_split\n",
        "from sklearn.linear_model import LinearRegression\n",
        "from surprise import Dataset, Reader, SVDpp\n",
        "from surprise.model_selection import cross_validate\n",
        "from surprise import accuracy"
      ]
    },
    {
      "cell_type": "markdown",
      "source": [
        "## 2. Dataset (Insert, Display and Clean)"
      ],
      "metadata": {
        "id": "_LcREnN-x3vk"
      }
    },
    {
      "cell_type": "code",
      "source": [
        "# Load MovieLens dataset\n",
        "\n",
        "df = pd.read_excel('/content/movieRatings_cleaned_sample.xlsx')"
      ],
      "metadata": {
        "id": "fYkg0cXOzoV7"
      },
      "execution_count": null,
      "outputs": []
    },
    {
      "cell_type": "code",
      "source": [
        "df.head()"
      ],
      "metadata": {
        "colab": {
          "base_uri": "https://localhost:8080/",
          "height": 206
        },
        "id": "NxTJNnB2_M8R",
        "outputId": "480f1704-f63b-4486-97cc-470f6bbbc98a"
      },
      "execution_count": null,
      "outputs": [
        {
          "output_type": "execute_result",
          "data": {
            "text/plain": [
              "   userId  movieId                                      title  \\\n",
              "0       1        1                           Toy Story (1995)   \n",
              "1       1      110                          Braveheart (1995)   \n",
              "2       1      158                              Casper (1995)   \n",
              "3       1      260  Star Wars: Episode IV - A New Hope (1977)   \n",
              "4       1      356                        Forrest Gump (1994)   \n",
              "\n",
              "                                        genres  rating  \n",
              "0  Adventure|Animation|Children|Comedy|Fantasy     4.0  \n",
              "1                             Action|Drama|War     4.0  \n",
              "2                           Adventure|Children     4.0  \n",
              "3                      Action|Adventure|Sci-Fi     4.5  \n",
              "4                     Comedy|Drama|Romance|War     5.0  "
            ],
            "text/html": [
              "\n",
              "  <div id=\"df-00b9031d-7399-4997-b96b-85f95c66aace\" class=\"colab-df-container\">\n",
              "    <div>\n",
              "<style scoped>\n",
              "    .dataframe tbody tr th:only-of-type {\n",
              "        vertical-align: middle;\n",
              "    }\n",
              "\n",
              "    .dataframe tbody tr th {\n",
              "        vertical-align: top;\n",
              "    }\n",
              "\n",
              "    .dataframe thead th {\n",
              "        text-align: right;\n",
              "    }\n",
              "</style>\n",
              "<table border=\"1\" class=\"dataframe\">\n",
              "  <thead>\n",
              "    <tr style=\"text-align: right;\">\n",
              "      <th></th>\n",
              "      <th>userId</th>\n",
              "      <th>movieId</th>\n",
              "      <th>title</th>\n",
              "      <th>genres</th>\n",
              "      <th>rating</th>\n",
              "    </tr>\n",
              "  </thead>\n",
              "  <tbody>\n",
              "    <tr>\n",
              "      <th>0</th>\n",
              "      <td>1</td>\n",
              "      <td>1</td>\n",
              "      <td>Toy Story (1995)</td>\n",
              "      <td>Adventure|Animation|Children|Comedy|Fantasy</td>\n",
              "      <td>4.0</td>\n",
              "    </tr>\n",
              "    <tr>\n",
              "      <th>1</th>\n",
              "      <td>1</td>\n",
              "      <td>110</td>\n",
              "      <td>Braveheart (1995)</td>\n",
              "      <td>Action|Drama|War</td>\n",
              "      <td>4.0</td>\n",
              "    </tr>\n",
              "    <tr>\n",
              "      <th>2</th>\n",
              "      <td>1</td>\n",
              "      <td>158</td>\n",
              "      <td>Casper (1995)</td>\n",
              "      <td>Adventure|Children</td>\n",
              "      <td>4.0</td>\n",
              "    </tr>\n",
              "    <tr>\n",
              "      <th>3</th>\n",
              "      <td>1</td>\n",
              "      <td>260</td>\n",
              "      <td>Star Wars: Episode IV - A New Hope (1977)</td>\n",
              "      <td>Action|Adventure|Sci-Fi</td>\n",
              "      <td>4.5</td>\n",
              "    </tr>\n",
              "    <tr>\n",
              "      <th>4</th>\n",
              "      <td>1</td>\n",
              "      <td>356</td>\n",
              "      <td>Forrest Gump (1994)</td>\n",
              "      <td>Comedy|Drama|Romance|War</td>\n",
              "      <td>5.0</td>\n",
              "    </tr>\n",
              "  </tbody>\n",
              "</table>\n",
              "</div>\n",
              "    <div class=\"colab-df-buttons\">\n",
              "\n",
              "  <div class=\"colab-df-container\">\n",
              "    <button class=\"colab-df-convert\" onclick=\"convertToInteractive('df-00b9031d-7399-4997-b96b-85f95c66aace')\"\n",
              "            title=\"Convert this dataframe to an interactive table.\"\n",
              "            style=\"display:none;\">\n",
              "\n",
              "  <svg xmlns=\"http://www.w3.org/2000/svg\" height=\"24px\" viewBox=\"0 -960 960 960\">\n",
              "    <path d=\"M120-120v-720h720v720H120Zm60-500h600v-160H180v160Zm220 220h160v-160H400v160Zm0 220h160v-160H400v160ZM180-400h160v-160H180v160Zm440 0h160v-160H620v160ZM180-180h160v-160H180v160Zm440 0h160v-160H620v160Z\"/>\n",
              "  </svg>\n",
              "    </button>\n",
              "\n",
              "  <style>\n",
              "    .colab-df-container {\n",
              "      display:flex;\n",
              "      gap: 12px;\n",
              "    }\n",
              "\n",
              "    .colab-df-convert {\n",
              "      background-color: #E8F0FE;\n",
              "      border: none;\n",
              "      border-radius: 50%;\n",
              "      cursor: pointer;\n",
              "      display: none;\n",
              "      fill: #1967D2;\n",
              "      height: 32px;\n",
              "      padding: 0 0 0 0;\n",
              "      width: 32px;\n",
              "    }\n",
              "\n",
              "    .colab-df-convert:hover {\n",
              "      background-color: #E2EBFA;\n",
              "      box-shadow: 0px 1px 2px rgba(60, 64, 67, 0.3), 0px 1px 3px 1px rgba(60, 64, 67, 0.15);\n",
              "      fill: #174EA6;\n",
              "    }\n",
              "\n",
              "    .colab-df-buttons div {\n",
              "      margin-bottom: 4px;\n",
              "    }\n",
              "\n",
              "    [theme=dark] .colab-df-convert {\n",
              "      background-color: #3B4455;\n",
              "      fill: #D2E3FC;\n",
              "    }\n",
              "\n",
              "    [theme=dark] .colab-df-convert:hover {\n",
              "      background-color: #434B5C;\n",
              "      box-shadow: 0px 1px 3px 1px rgba(0, 0, 0, 0.15);\n",
              "      filter: drop-shadow(0px 1px 2px rgba(0, 0, 0, 0.3));\n",
              "      fill: #FFFFFF;\n",
              "    }\n",
              "  </style>\n",
              "\n",
              "    <script>\n",
              "      const buttonEl =\n",
              "        document.querySelector('#df-00b9031d-7399-4997-b96b-85f95c66aace button.colab-df-convert');\n",
              "      buttonEl.style.display =\n",
              "        google.colab.kernel.accessAllowed ? 'block' : 'none';\n",
              "\n",
              "      async function convertToInteractive(key) {\n",
              "        const element = document.querySelector('#df-00b9031d-7399-4997-b96b-85f95c66aace');\n",
              "        const dataTable =\n",
              "          await google.colab.kernel.invokeFunction('convertToInteractive',\n",
              "                                                    [key], {});\n",
              "        if (!dataTable) return;\n",
              "\n",
              "        const docLinkHtml = 'Like what you see? Visit the ' +\n",
              "          '<a target=\"_blank\" href=https://colab.research.google.com/notebooks/data_table.ipynb>data table notebook</a>'\n",
              "          + ' to learn more about interactive tables.';\n",
              "        element.innerHTML = '';\n",
              "        dataTable['output_type'] = 'display_data';\n",
              "        await google.colab.output.renderOutput(dataTable, element);\n",
              "        const docLink = document.createElement('div');\n",
              "        docLink.innerHTML = docLinkHtml;\n",
              "        element.appendChild(docLink);\n",
              "      }\n",
              "    </script>\n",
              "  </div>\n",
              "\n",
              "\n",
              "<div id=\"df-dc329e47-3c55-4d42-94b2-0b906a48ab11\">\n",
              "  <button class=\"colab-df-quickchart\" onclick=\"quickchart('df-dc329e47-3c55-4d42-94b2-0b906a48ab11')\"\n",
              "            title=\"Suggest charts\"\n",
              "            style=\"display:none;\">\n",
              "\n",
              "<svg xmlns=\"http://www.w3.org/2000/svg\" height=\"24px\"viewBox=\"0 0 24 24\"\n",
              "     width=\"24px\">\n",
              "    <g>\n",
              "        <path d=\"M19 3H5c-1.1 0-2 .9-2 2v14c0 1.1.9 2 2 2h14c1.1 0 2-.9 2-2V5c0-1.1-.9-2-2-2zM9 17H7v-7h2v7zm4 0h-2V7h2v10zm4 0h-2v-4h2v4z\"/>\n",
              "    </g>\n",
              "</svg>\n",
              "  </button>\n",
              "\n",
              "<style>\n",
              "  .colab-df-quickchart {\n",
              "      --bg-color: #E8F0FE;\n",
              "      --fill-color: #1967D2;\n",
              "      --hover-bg-color: #E2EBFA;\n",
              "      --hover-fill-color: #174EA6;\n",
              "      --disabled-fill-color: #AAA;\n",
              "      --disabled-bg-color: #DDD;\n",
              "  }\n",
              "\n",
              "  [theme=dark] .colab-df-quickchart {\n",
              "      --bg-color: #3B4455;\n",
              "      --fill-color: #D2E3FC;\n",
              "      --hover-bg-color: #434B5C;\n",
              "      --hover-fill-color: #FFFFFF;\n",
              "      --disabled-bg-color: #3B4455;\n",
              "      --disabled-fill-color: #666;\n",
              "  }\n",
              "\n",
              "  .colab-df-quickchart {\n",
              "    background-color: var(--bg-color);\n",
              "    border: none;\n",
              "    border-radius: 50%;\n",
              "    cursor: pointer;\n",
              "    display: none;\n",
              "    fill: var(--fill-color);\n",
              "    height: 32px;\n",
              "    padding: 0;\n",
              "    width: 32px;\n",
              "  }\n",
              "\n",
              "  .colab-df-quickchart:hover {\n",
              "    background-color: var(--hover-bg-color);\n",
              "    box-shadow: 0 1px 2px rgba(60, 64, 67, 0.3), 0 1px 3px 1px rgba(60, 64, 67, 0.15);\n",
              "    fill: var(--button-hover-fill-color);\n",
              "  }\n",
              "\n",
              "  .colab-df-quickchart-complete:disabled,\n",
              "  .colab-df-quickchart-complete:disabled:hover {\n",
              "    background-color: var(--disabled-bg-color);\n",
              "    fill: var(--disabled-fill-color);\n",
              "    box-shadow: none;\n",
              "  }\n",
              "\n",
              "  .colab-df-spinner {\n",
              "    border: 2px solid var(--fill-color);\n",
              "    border-color: transparent;\n",
              "    border-bottom-color: var(--fill-color);\n",
              "    animation:\n",
              "      spin 1s steps(1) infinite;\n",
              "  }\n",
              "\n",
              "  @keyframes spin {\n",
              "    0% {\n",
              "      border-color: transparent;\n",
              "      border-bottom-color: var(--fill-color);\n",
              "      border-left-color: var(--fill-color);\n",
              "    }\n",
              "    20% {\n",
              "      border-color: transparent;\n",
              "      border-left-color: var(--fill-color);\n",
              "      border-top-color: var(--fill-color);\n",
              "    }\n",
              "    30% {\n",
              "      border-color: transparent;\n",
              "      border-left-color: var(--fill-color);\n",
              "      border-top-color: var(--fill-color);\n",
              "      border-right-color: var(--fill-color);\n",
              "    }\n",
              "    40% {\n",
              "      border-color: transparent;\n",
              "      border-right-color: var(--fill-color);\n",
              "      border-top-color: var(--fill-color);\n",
              "    }\n",
              "    60% {\n",
              "      border-color: transparent;\n",
              "      border-right-color: var(--fill-color);\n",
              "    }\n",
              "    80% {\n",
              "      border-color: transparent;\n",
              "      border-right-color: var(--fill-color);\n",
              "      border-bottom-color: var(--fill-color);\n",
              "    }\n",
              "    90% {\n",
              "      border-color: transparent;\n",
              "      border-bottom-color: var(--fill-color);\n",
              "    }\n",
              "  }\n",
              "</style>\n",
              "\n",
              "  <script>\n",
              "    async function quickchart(key) {\n",
              "      const quickchartButtonEl =\n",
              "        document.querySelector('#' + key + ' button');\n",
              "      quickchartButtonEl.disabled = true;  // To prevent multiple clicks.\n",
              "      quickchartButtonEl.classList.add('colab-df-spinner');\n",
              "      try {\n",
              "        const charts = await google.colab.kernel.invokeFunction(\n",
              "            'suggestCharts', [key], {});\n",
              "      } catch (error) {\n",
              "        console.error('Error during call to suggestCharts:', error);\n",
              "      }\n",
              "      quickchartButtonEl.classList.remove('colab-df-spinner');\n",
              "      quickchartButtonEl.classList.add('colab-df-quickchart-complete');\n",
              "    }\n",
              "    (() => {\n",
              "      let quickchartButtonEl =\n",
              "        document.querySelector('#df-dc329e47-3c55-4d42-94b2-0b906a48ab11 button');\n",
              "      quickchartButtonEl.style.display =\n",
              "        google.colab.kernel.accessAllowed ? 'block' : 'none';\n",
              "    })();\n",
              "  </script>\n",
              "</div>\n",
              "    </div>\n",
              "  </div>\n"
            ]
          },
          "metadata": {},
          "execution_count": 4
        }
      ]
    },
    {
      "cell_type": "code",
      "source": [
        "# Drop NaN values in the 'genres' column\n",
        "df = df.dropna(subset=['genres'])"
      ],
      "metadata": {
        "id": "Vo9O4oM4z6QR"
      },
      "execution_count": null,
      "outputs": []
    },
    {
      "cell_type": "markdown",
      "source": [
        "## 3. Dataset Training and Testing"
      ],
      "metadata": {
        "id": "QElL_hSOyvTo"
      }
    },
    {
      "cell_type": "code",
      "source": [
        "# Split the data into training and testing sets\n",
        "train_data, test_data = train_test_split(df, test_size=0.25, random_state=42)"
      ],
      "metadata": {
        "id": "tYGH1LtKz_SB"
      },
      "execution_count": null,
      "outputs": []
    },
    {
      "cell_type": "code",
      "source": [
        "# Surprise: Load the data and create a surprise dataset\n",
        "reader = Reader(rating_scale=(1, 5))\n",
        "data = Dataset.load_from_df(train_data[['userId', 'movieId', 'rating']], reader)"
      ],
      "metadata": {
        "id": "M906I0In0HAZ"
      },
      "execution_count": null,
      "outputs": []
    },
    {
      "cell_type": "markdown",
      "source": [
        "## 4. Build and Train the Models"
      ],
      "metadata": {
        "id": "PYfOg3a_zZLr"
      }
    },
    {
      "cell_type": "code",
      "source": [
        "# Build and train the SVD++ model\n",
        "model_svdpp = SVDpp()\n",
        "cross_validate(model_svdpp, data, measures=['RMSE'], cv=5, verbose=True)\n",
        "model_svdpp.fit(data.build_full_trainset())"
      ],
      "metadata": {
        "colab": {
          "base_uri": "https://localhost:8080/"
        },
        "id": "tEO_dzbG0MX4",
        "outputId": "ada51eb6-d292-45f9-9298-d29b9a32136e"
      },
      "execution_count": null,
      "outputs": [
        {
          "output_type": "stream",
          "name": "stdout",
          "text": [
            "Evaluating RMSE of algorithm SVDpp on 5 split(s).\n",
            "\n",
            "                  Fold 1  Fold 2  Fold 3  Fold 4  Fold 5  Mean    Std     \n",
            "RMSE (testset)    0.8916  0.8917  0.9014  0.9083  0.8937  0.8973  0.0066  \n",
            "Fit time          38.16   38.01   38.07   38.84   39.36   38.49   0.53    \n",
            "Test time         4.33    5.32    4.33    4.44    5.24    4.73    0.45    \n"
          ]
        },
        {
          "output_type": "execute_result",
          "data": {
            "text/plain": [
              "<surprise.prediction_algorithms.matrix_factorization.SVDpp at 0x7db864f96e90>"
            ]
          },
          "metadata": {},
          "execution_count": 8
        }
      ]
    },
    {
      "cell_type": "code",
      "source": [
        "# TF-IDF Vectorization\n",
        "vectorizer = TfidfVectorizer(stop_words='english', max_features=5000)\n",
        "X_train = vectorizer.fit_transform(train_data['genres'])\n",
        "X_test = vectorizer.transform(test_data['genres'])"
      ],
      "metadata": {
        "id": "JUSPsfAc9-VV"
      },
      "execution_count": null,
      "outputs": []
    },
    {
      "cell_type": "code",
      "source": [
        "# Linear Regression on TF-IDF features\n",
        "lr_model = LinearRegression()\n",
        "lr_model.fit(X_train, train_data['rating'])"
      ],
      "metadata": {
        "colab": {
          "base_uri": "https://localhost:8080/",
          "height": 74
        },
        "id": "XiSphZ6dBRiG",
        "outputId": "7819b33f-592e-4a1b-bbcf-4f0b30e02f76"
      },
      "execution_count": null,
      "outputs": [
        {
          "output_type": "execute_result",
          "data": {
            "text/plain": [
              "LinearRegression()"
            ],
            "text/html": [
              "<style>#sk-container-id-1 {color: black;background-color: white;}#sk-container-id-1 pre{padding: 0;}#sk-container-id-1 div.sk-toggleable {background-color: white;}#sk-container-id-1 label.sk-toggleable__label {cursor: pointer;display: block;width: 100%;margin-bottom: 0;padding: 0.3em;box-sizing: border-box;text-align: center;}#sk-container-id-1 label.sk-toggleable__label-arrow:before {content: \"▸\";float: left;margin-right: 0.25em;color: #696969;}#sk-container-id-1 label.sk-toggleable__label-arrow:hover:before {color: black;}#sk-container-id-1 div.sk-estimator:hover label.sk-toggleable__label-arrow:before {color: black;}#sk-container-id-1 div.sk-toggleable__content {max-height: 0;max-width: 0;overflow: hidden;text-align: left;background-color: #f0f8ff;}#sk-container-id-1 div.sk-toggleable__content pre {margin: 0.2em;color: black;border-radius: 0.25em;background-color: #f0f8ff;}#sk-container-id-1 input.sk-toggleable__control:checked~div.sk-toggleable__content {max-height: 200px;max-width: 100%;overflow: auto;}#sk-container-id-1 input.sk-toggleable__control:checked~label.sk-toggleable__label-arrow:before {content: \"▾\";}#sk-container-id-1 div.sk-estimator input.sk-toggleable__control:checked~label.sk-toggleable__label {background-color: #d4ebff;}#sk-container-id-1 div.sk-label input.sk-toggleable__control:checked~label.sk-toggleable__label {background-color: #d4ebff;}#sk-container-id-1 input.sk-hidden--visually {border: 0;clip: rect(1px 1px 1px 1px);clip: rect(1px, 1px, 1px, 1px);height: 1px;margin: -1px;overflow: hidden;padding: 0;position: absolute;width: 1px;}#sk-container-id-1 div.sk-estimator {font-family: monospace;background-color: #f0f8ff;border: 1px dotted black;border-radius: 0.25em;box-sizing: border-box;margin-bottom: 0.5em;}#sk-container-id-1 div.sk-estimator:hover {background-color: #d4ebff;}#sk-container-id-1 div.sk-parallel-item::after {content: \"\";width: 100%;border-bottom: 1px solid gray;flex-grow: 1;}#sk-container-id-1 div.sk-label:hover label.sk-toggleable__label {background-color: #d4ebff;}#sk-container-id-1 div.sk-serial::before {content: \"\";position: absolute;border-left: 1px solid gray;box-sizing: border-box;top: 0;bottom: 0;left: 50%;z-index: 0;}#sk-container-id-1 div.sk-serial {display: flex;flex-direction: column;align-items: center;background-color: white;padding-right: 0.2em;padding-left: 0.2em;position: relative;}#sk-container-id-1 div.sk-item {position: relative;z-index: 1;}#sk-container-id-1 div.sk-parallel {display: flex;align-items: stretch;justify-content: center;background-color: white;position: relative;}#sk-container-id-1 div.sk-item::before, #sk-container-id-1 div.sk-parallel-item::before {content: \"\";position: absolute;border-left: 1px solid gray;box-sizing: border-box;top: 0;bottom: 0;left: 50%;z-index: -1;}#sk-container-id-1 div.sk-parallel-item {display: flex;flex-direction: column;z-index: 1;position: relative;background-color: white;}#sk-container-id-1 div.sk-parallel-item:first-child::after {align-self: flex-end;width: 50%;}#sk-container-id-1 div.sk-parallel-item:last-child::after {align-self: flex-start;width: 50%;}#sk-container-id-1 div.sk-parallel-item:only-child::after {width: 0;}#sk-container-id-1 div.sk-dashed-wrapped {border: 1px dashed gray;margin: 0 0.4em 0.5em 0.4em;box-sizing: border-box;padding-bottom: 0.4em;background-color: white;}#sk-container-id-1 div.sk-label label {font-family: monospace;font-weight: bold;display: inline-block;line-height: 1.2em;}#sk-container-id-1 div.sk-label-container {text-align: center;}#sk-container-id-1 div.sk-container {/* jupyter's `normalize.less` sets `[hidden] { display: none; }` but bootstrap.min.css set `[hidden] { display: none !important; }` so we also need the `!important` here to be able to override the default hidden behavior on the sphinx rendered scikit-learn.org. See: https://github.com/scikit-learn/scikit-learn/issues/21755 */display: inline-block !important;position: relative;}#sk-container-id-1 div.sk-text-repr-fallback {display: none;}</style><div id=\"sk-container-id-1\" class=\"sk-top-container\"><div class=\"sk-text-repr-fallback\"><pre>LinearRegression()</pre><b>In a Jupyter environment, please rerun this cell to show the HTML representation or trust the notebook. <br />On GitHub, the HTML representation is unable to render, please try loading this page with nbviewer.org.</b></div><div class=\"sk-container\" hidden><div class=\"sk-item\"><div class=\"sk-estimator sk-toggleable\"><input class=\"sk-toggleable__control sk-hidden--visually\" id=\"sk-estimator-id-1\" type=\"checkbox\" checked><label for=\"sk-estimator-id-1\" class=\"sk-toggleable__label sk-toggleable__label-arrow\">LinearRegression</label><div class=\"sk-toggleable__content\"><pre>LinearRegression()</pre></div></div></div></div></div>"
            ]
          },
          "metadata": {},
          "execution_count": 10
        }
      ]
    },
    {
      "cell_type": "markdown",
      "source": [
        "## 5. Merge and Evaluate Models  "
      ],
      "metadata": {
        "id": "AK46PbbW0LHC"
      }
    },
    {
      "cell_type": "code",
      "source": [
        "# Make predictions using both models\n",
        "svdpp_predictions = [model_svdpp.predict(row['userId'], row['movieId']).est for _, row in test_data.iterrows()]\n",
        "tfidf_predictions = lr_model.predict(X_test)"
      ],
      "metadata": {
        "id": "YNvSFoFmBbZC"
      },
      "execution_count": null,
      "outputs": []
    },
    {
      "cell_type": "code",
      "source": [
        "# Combine predictions (simple average in this example)\n",
        "combined_predictions = (svdpp_predictions + tfidf_predictions) / 2"
      ],
      "metadata": {
        "id": "2g00zN-tBjSJ"
      },
      "execution_count": null,
      "outputs": []
    },
    {
      "cell_type": "code",
      "source": [
        "# Evaluate the combined model\n",
        "from sklearn.metrics import mean_squared_error\n",
        "\n",
        "mse = mean_squared_error(test_data['rating'], combined_predictions)\n",
        "print(f'Combined Model Mean Squared Error: {mse}')"
      ],
      "metadata": {
        "colab": {
          "base_uri": "https://localhost:8080/"
        },
        "id": "nqY6hEnEBpq2",
        "outputId": "134eeaa9-cff4-427c-84bb-c6a64a3a0faf"
      },
      "execution_count": null,
      "outputs": [
        {
          "output_type": "stream",
          "name": "stdout",
          "text": [
            "Combined Model Mean Squared Error: 0.827604867158851\n"
          ]
        }
      ]
    },
    {
      "cell_type": "markdown",
      "source": [
        "## 6. Hybrid Recommendation Function"
      ],
      "metadata": {
        "id": "m62e_7ts04rO"
      }
    },
    {
      "cell_type": "code",
      "source": [
        "import random\n",
        "\n",
        "# Function to get hybrid recommendations\n",
        "\n",
        "def get_hybrid_recommendations(user_id, top_n=10):\n",
        "    user_seen_movies = df[df['userId'] == user_id]['movieId'].tolist()\n",
        "    candidate_movies = df[df['movieId'].isin(user_seen_movies)]['movieId'].tolist()\n",
        "\n",
        "    #Unseen_movies = df[~df['movieId'].isin(user_seen_movies)]['movieId'].tolist()\n",
        "\n",
        "    #all_movies = candidate_movies + Unseen_movies\n",
        "    #random.shuffle(all_movies)\n",
        "\n",
        "    hybrid_scores = []\n",
        "    for movie_id in candidate_movies:\n",
        "        svdpp_score = svdpp_predictions\n",
        "        lr_score = tfidf_predictions\n",
        "        hybrid_score = svdpp_score + lr_score[0]\n",
        "        hybrid_scores.append((movie_id, hybrid_score))\n",
        "\n",
        "\n",
        "    hybrid_scores.sort(key=lambda x: x[1][0], reverse=True)\n",
        "    top_recommendations = hybrid_scores[:top_n]\n",
        "    top_movies = [df[df['movieId'] == movie_id]['title'].values[0] for movie_id, _ in top_recommendations]\n",
        "\n",
        "    return top_movies\n"
      ],
      "metadata": {
        "id": "JBVhoY76Cgle"
      },
      "execution_count": null,
      "outputs": []
    },
    {
      "cell_type": "markdown",
      "source": [
        "## 7. Recommendation"
      ],
      "metadata": {
        "id": "oUE_0gm21iSI"
      }
    },
    {
      "cell_type": "code",
      "source": [
        "from IPython.display import display\n",
        "\n",
        "user_id = 816\n",
        "recommendations = get_hybrid_recommendations(user_id)\n",
        "print(f\"Top 10 recommendations for User with ID {user_id}\")\n",
        "print()\n",
        "\n",
        "\n",
        "\n",
        "display(recommendations)\n"
      ],
      "metadata": {
        "colab": {
          "base_uri": "https://localhost:8080/",
          "height": 225
        },
        "id": "BSZEOYe0G60Y",
        "outputId": "9bc50876-7ef8-41f2-9468-bf19120ae8ef"
      },
      "execution_count": null,
      "outputs": [
        {
          "output_type": "stream",
          "name": "stdout",
          "text": [
            "Top 10 recommendations for User with ID 816\n",
            "\n"
          ]
        },
        {
          "output_type": "display_data",
          "data": {
            "text/plain": [
              "['Forrest Gump (1994)',\n",
              " 'Die Hard (1988)',\n",
              " 'Star Wars: Episode VI - Return of the Jedi (1983)',\n",
              " 'Indiana Jones and the Last Crusade (1989)',\n",
              " 'Gandhi (1982)',\n",
              " 'Last Emperor, The (1987)',\n",
              " 'Matrix, The (1999)',\n",
              " 'Notting Hill (1999)',\n",
              " 'Shrek (2001)',\n",
              " 'Monsters, Inc. (2001)']"
            ]
          },
          "metadata": {}
        }
      ]
    },
    {
      "cell_type": "code",
      "source": [
        "import timeit\n",
        "\n",
        "def measure_recommendation_time():\n",
        "    user_id = 1\n",
        "    recommendations = get_hybrid_recommendations(user_id)\n",
        "    display(recommendations)\n",
        "\n",
        "# Use timeit to measure the execution time\n",
        "execution_time = timeit.timeit(measure_recommendation_time, number=1)\n",
        "\n",
        "print()\n",
        "print(f\"Recommendation system execution time: {execution_time} seconds\")"
      ],
      "metadata": {
        "id": "agVerMaxce9m",
        "colab": {
          "base_uri": "https://localhost:8080/",
          "height": 225
        },
        "outputId": "e26f569e-8d8a-41af-f592-3231bed9c32e"
      },
      "execution_count": null,
      "outputs": [
        {
          "output_type": "display_data",
          "data": {
            "text/plain": [
              "['Toy Story (1995)',\n",
              " 'Braveheart (1995)',\n",
              " 'Casper (1995)',\n",
              " 'Star Wars: Episode IV - A New Hope (1977)',\n",
              " 'Forrest Gump (1994)',\n",
              " 'When a Man Loves a Woman (1994)',\n",
              " 'Pinocchio (1940)',\n",
              " 'Die Hard (1988)',\n",
              " 'Ghost and the Darkness, The (1996)',\n",
              " 'Shall We Dance (1937)']"
            ]
          },
          "metadata": {}
        },
        {
          "output_type": "stream",
          "name": "stdout",
          "text": [
            "\n",
            "Recommendation system execution time: 6.985137040000154 seconds\n"
          ]
        }
      ]
    },
    {
      "cell_type": "code",
      "source": [
        "import random\n",
        "\n",
        "# Replace this function with your actual recommendation logic\n",
        "def get_movie_recommendations(user_id):\n",
        "    # Replace this list with your actual movie data\n",
        "    #all_movies = [\"Movie1\", \"Movie2\", \"Movie3\", \"Movie4\", \"Movie5\", \"Movie6\", \"Movie7\", \"Movie8\", \"Movie9\", \"Movie10\"]\n",
        "    all_movies = df[df['userId'] == user_id]['movieId'].tolist()\n",
        "\n",
        "    # Simulate recommendations, possibly including unexpected ones\n",
        "    recommendations = random.sample(all_movies, k=5)\n",
        "\n",
        "    return recommendations\n"
      ],
      "metadata": {
        "id": "ic8O6pA71Vu6"
      },
      "execution_count": null,
      "outputs": []
    },
    {
      "cell_type": "code",
      "source": [
        "def serendipity_test(user_id):\n",
        "    # Get regular recommendations\n",
        "    regular_recommendations = get_movie_recommendations(user_id)\n",
        "\n",
        "    # Introduce some unexpected recommendations\n",
        "    unexpected_recommendations = [\"SurpriseMovie1\", \"SurpriseMovie2\", \"SurpriseMovie3\"]\n",
        "\n",
        "    # Combine regular and unexpected recommendations\n",
        "    all_recommendations = regular_recommendations + unexpected_recommendations\n",
        "\n",
        "    # Shuffle the combined list to simulate unpredictability\n",
        "    random.shuffle(all_recommendations)\n",
        "\n",
        "    # Print the recommendations\n",
        "    print(\"Regular Recommendations for User\", user_id, \":\")\n",
        "    print(regular_recommendations)\n",
        "\n",
        "    print(\"\\nUnexpected Recommendations for User\", user_id, \":\")\n",
        "    print(unexpected_recommendations)\n",
        "\n",
        "    print(\"\\nAll Recommendations (Shuffled) for User\", user_id, \":\")\n",
        "    print(all_recommendations)\n",
        "\n",
        "# Example usage\n",
        "user_id = 1\n",
        "serendipity_test(user_id)"
      ],
      "metadata": {
        "colab": {
          "base_uri": "https://localhost:8080/"
        },
        "id": "DadZIQKGKN2u",
        "outputId": "a131f583-0c5b-421c-bd4a-1704fb74da63"
      },
      "execution_count": null,
      "outputs": [
        {
          "output_type": "stream",
          "name": "stdout",
          "text": [
            "Regular Recommendations for User 1 :\n",
            "[1036, 110, 8969, 4993, 2908]\n",
            "\n",
            "Unexpected Recommendations for User 1 :\n",
            "['SurpriseMovie1', 'SurpriseMovie2', 'SurpriseMovie3']\n",
            "\n",
            "All Recommendations (Shuffled) for User 1 :\n",
            "['SurpriseMovie1', 2908, 4993, 'SurpriseMovie2', 'SurpriseMovie3', 1036, 110, 8969]\n"
          ]
        }
      ]
    },
    {
      "cell_type": "markdown",
      "source": [
        "def movie_recommendation_system(user_id):\n",
        "     Replace this with your actual recommendation logic\n",
        "    recommendations = get_hybrid_recommendations(user_id)\n",
        "\n",
        "     Use a set to store unique recommendations\n",
        "    unique_recommendations = set(recommendations)\n",
        "\n",
        "    Print the unique recommendations\n",
        "    print(\"Unique Movie Recommendations for User\", user_id, \":\")\n",
        "    for movie in unique_recommendations:\n",
        "        print(movie)\n",
        "\n",
        " Example usage\n",
        "user_id = 1\n",
        "movie_recommendation_system(user_id)"
      ],
      "metadata": {
        "id": "a-2yabtpZ6x6"
      }
    },
    {
      "cell_type": "code",
      "source": [],
      "metadata": {
        "id": "U6DuaTpNaE6U"
      },
      "execution_count": null,
      "outputs": []
    }
  ]
}